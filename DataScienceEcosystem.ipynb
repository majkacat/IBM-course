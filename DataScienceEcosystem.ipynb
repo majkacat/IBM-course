{
 "cells": [
  {
   "cell_type": "markdown",
   "id": "9408908d",
   "metadata": {},
   "source": [
    "# Data Science Tools and Ecosystem"
   ]
  },
  {
   "cell_type": "markdown",
   "id": "88aa8fd1",
   "metadata": {},
   "source": [
    "In this notebook, Data Science Tools and Ecosystem are summarized."
   ]
  },
  {
   "cell_type": "markdown",
   "id": "7950d427",
   "metadata": {},
   "source": [
    "__Objectives__:\n",
    "\n",
    "- To list some of the popular languages that Data Scientists use\n",
    "- To list some of the commonly used libraries used by Data Scientists\n",
    "- To list some Data Science tools\n",
    "- To demonstrate a few examples of evaluating arithmetic expressions in Python"
   ]
  },
  {
   "cell_type": "markdown",
   "id": "77979cfa",
   "metadata": {},
   "source": [
    "Some of the popular languages that Data Scientists use are:\n",
    "1. Python\n",
    "2. Java\n",
    "3. Scala\n",
    "4. Julia\n",
    "5. Ruby\n",
    "6. C++\n",
    "7. SQL\n",
    "8. R\n",
    "9. JS\n",
    "10. PHP\n",
    "11. Go\n",
    "12. Visual Basic"
   ]
  },
  {
   "cell_type": "markdown",
   "id": "add0a1e1",
   "metadata": {},
   "source": [
    "Some of the commonly used libraries used by Data Scientists include:\n",
    "1. NumPy\n",
    "2. Pandas\n",
    "3. PyTorch\n",
    "4. Matplotlib\n",
    "5. Seaborn\n",
    "6. SciPy\n",
    "7. TensorFlow\n",
    "8. Keras\n",
    "9. SciKit-Learn\n",
    "10. Apache Spark\n",
    "11. Vegas\n",
    "12. Big DL\n",
    "13. ggplot2 and GGally"
   ]
  },
  {
   "cell_type": "markdown",
   "id": "085fbdd4",
   "metadata": {},
   "source": [
    "| Data Science Tools:|\n",
    "|--------------------|\n",
    "|Jupyter Notebook|\n",
    "|Google Collab|\n",
    "|RStudio|\n",
    "|Git|"
   ]
  },
  {
   "cell_type": "markdown",
   "id": "0e5d842c",
   "metadata": {},
   "source": [
    "### Below are a few examples of evaluating arithmetic expressions in Python:"
   ]
  },
  {
   "cell_type": "code",
   "execution_count": 1,
   "id": "d37fe2ac",
   "metadata": {},
   "outputs": [
    {
     "data": {
      "text/plain": [
       "17"
      ]
     },
     "execution_count": 1,
     "metadata": {},
     "output_type": "execute_result"
    }
   ],
   "source": [
    "## This is a simple arithmetic expression to mutiply then add integers\n",
    "(3 * 4) + 5"
   ]
  },
  {
   "cell_type": "code",
   "execution_count": 2,
   "id": "4124c9e4",
   "metadata": {},
   "outputs": [
    {
     "data": {
      "text/plain": [
       "3.3333333333333335"
      ]
     },
     "execution_count": 2,
     "metadata": {},
     "output_type": "execute_result"
    }
   ],
   "source": [
    "## This will convert 200 minutes to hours by diving by 60\n",
    "200 / 60 "
   ]
  },
  {
   "cell_type": "markdown",
   "id": "4afd45ce",
   "metadata": {},
   "source": [
    "***\n",
    "## Author:\n",
    "Egor Putlyaev"
   ]
  }
 ],
 "metadata": {
  "kernelspec": {
   "display_name": "Python 3 (ipykernel)",
   "language": "python",
   "name": "python3"
  },
  "language_info": {
   "codemirror_mode": {
    "name": "ipython",
    "version": 3
   },
   "file_extension": ".py",
   "mimetype": "text/x-python",
   "name": "python",
   "nbconvert_exporter": "python",
   "pygments_lexer": "ipython3",
   "version": "3.9.13"
  }
 },
 "nbformat": 4,
 "nbformat_minor": 5
}
